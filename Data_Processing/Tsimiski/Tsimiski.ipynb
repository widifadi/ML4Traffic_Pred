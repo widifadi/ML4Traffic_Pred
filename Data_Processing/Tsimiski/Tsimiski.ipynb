{
 "cells": [
  {
   "cell_type": "code",
   "execution_count": null,
   "metadata": {},
   "outputs": [],
   "source": [
    "import numpy as np\n",
    "import pandas as pd \n",
    "\n",
    "import matplotlib.pyplot as plt\n",
    "import seaborn as sns \n",
    "\n",
    "from sklearn.model_selection import train_test_split\n",
    "from sklearn.preprocessing import StandardScaler, MinMaxScaler\n",
    "from sklearn.preprocessing import LabelEncoder\n",
    "\n",
    "from sklearn.linear_model import LinearRegression\n",
    "from sklearn.neighbors import KNeighborsRegressor\n",
    "from sklearn.neural_network import MLPRegressor\n",
    "from sklearn.svm import LinearSVR, SVR\n",
    "from sklearn.tree import DecisionTreeRegressor\n",
    "from sklearn.ensemble import RandomForestRegressor, GradientBoostingRegressor\n",
    "\n",
    "from sklearn.metrics import r2_score, mean_absolute_error, mean_squared_error\n",
    "\n",
    "import warnings\n",
    "warnings.filterwarnings(action='ignore')\n",
    "\n",
    "!python -V\n",
    "# print(sklearn.__version__)"
   ]
  },
  {
   "cell_type": "code",
   "execution_count": null,
   "metadata": {},
   "outputs": [],
   "source": [
    "o_df = pd.read_csv('Tsimiski_st.csv', sep=',') # parse_dates = ['date_time'], index_col = ['date_time']\n",
    "\n",
    "# Converting date_time format \n",
    "o_df['date_time'] = o_df['date_time'].astype('datetime64[ns]')\n",
    "o_df['year'] = o_df['date_time'].dt.year\n",
    "\n",
    "o_df.dropna(axis=0, how='any', inplace=True)\n",
    "\n",
    "o_df"
   ]
  },
  {
   "cell_type": "code",
   "execution_count": null,
   "metadata": {},
   "outputs": [],
   "source": [
    "o_df['osm_id'].value_counts()"
   ]
  },
  {
   "cell_type": "code",
   "execution_count": null,
   "metadata": {},
   "outputs": [],
   "source": [
    "sns.set(rc={'figure.figsize':(30,10)}, font_scale=2)\n",
    "sns.lineplot(x=o_df['date_time'], y=o_df['speed_kmph'], hue=o_df['osm_id'])\n",
    "plt.ylabel('Speed (Km/h)')\n",
    "plt.xlabel('Date & Time')\n",
    "plt.title('Speed Values in Tsimiski Street')"
   ]
  },
  {
   "cell_type": "code",
   "execution_count": null,
   "metadata": {},
   "outputs": [],
   "source": [
    "# filter the data for processing \n",
    "df = o_df.loc[o_df['year'] == 2018] \n",
    "df = df.loc[df['osm_id'] == 13769164] # Change to df = df.loc[df['osm_id'] == 176665188] for multiple year analysis\n",
    "\n",
    "#greater than the start date and smaller than the end date\n",
    "mask = (df['date_time'] > '2018-07-01 00:00:00') & (df['date_time'] <= '2018-07-31 23:45:00') # selection format 2018-01-01 10:15:00\n",
    "df = df.loc[mask]\n",
    "df"
   ]
  },
  {
   "cell_type": "markdown",
   "metadata": {},
   "source": [
    "15 minutes = 4 step/hour\n",
    "24 * 4 * 31 =  2976/id\n",
    "\n",
    "Available:\n",
    "8663/8928"
   ]
  },
  {
   "cell_type": "code",
   "execution_count": null,
   "metadata": {},
   "outputs": [],
   "source": [
    "# loop through id to create temp. df\n",
    "osm = df['osm_id'].unique()\n",
    "\n",
    "segments = {}\n",
    "for i in range(len(osm)):\n",
    "    segments['segment{}'.format(i+1)]=df[df['osm_id']==osm[i]]\n",
    "\n",
    "ndf = pd.DataFrame()\n",
    "# resample for each id\n",
    "for segment in segments:\n",
    "    dfs = segments[segment]\n",
    "    dfs = dfs.set_index('date_time')\n",
    "    dfs = dfs.resample('15T').interpolate()\n",
    "    dfs = dfs.bfill()\n",
    "# convert the type for some of the column\n",
    "    dfs = dfs.astype({\"osm_id\":'int', \"hours\":'int', \"mins\":'int', \"stores\":'int', \"n_day\":'int', \"n_month\":'int', \"year\":'int'})\n",
    "\n",
    "# append all temp. into one df\n",
    "    ndf = ndf.append(dfs)\n",
    "    df = ndf"
   ]
  },
  {
   "cell_type": "code",
   "execution_count": null,
   "metadata": {},
   "outputs": [],
   "source": [
    "df"
   ]
  },
  {
   "cell_type": "code",
   "execution_count": null,
   "metadata": {},
   "outputs": [],
   "source": [
    "# Use only when multiple road segments are selected\n",
    "df = df.reset_index()\n",
    "df"
   ]
  },
  {
   "cell_type": "code",
   "execution_count": null,
   "metadata": {},
   "outputs": [],
   "source": [
    "sns.set(rc={'figure.figsize':(30,10)}, font_scale=2)\n",
    "sns.lineplot(x=df.index, y=df['speed_kmph'], hue=df['osm_id']) # x=df.index, for single road segment\n",
    "plt.ylabel('Speed (Km/h)')\n",
    "plt.xlabel('Date & Time')\n",
    "plt.title('Selected Data')"
   ]
  },
  {
   "cell_type": "code",
   "execution_count": null,
   "metadata": {},
   "outputs": [],
   "source": [
    "\"\"\"\n",
    "CODE DUMP:\n",
    "\n",
    "df['is_weekend'] = ''\n",
    "df['is_weekday'] = ''\n",
    "\n",
    "for i in range(len(df)):\n",
    "    check = df.iat[i,6]\n",
    "    if df.iat[i,6] != 1 and df.iat[i,6] != 7:\n",
    "        df.iat[i,13] = 0\n",
    "        df.iat[i,14] = 1\n",
    "    else:\n",
    "        df.iat[i,13] = 1\n",
    "        df.iat[i,14] = 0\n",
    "\n",
    "df = df.astype({\"is_weekend\":'int', \"is_weekday\":'int'})\n",
    "\"\"\"\n",
    "\n",
    "# Split df into X and y\n",
    "# selecting the prediction target (label)\n",
    "y = df.speed_kmph\n",
    "    \n",
    "# convert all the features with label encoder\n",
    "df['highway_n'] = LabelEncoder().fit_transform(df['highway'])\n",
    "df['bus_stop_n'] = LabelEncoder().fit_transform(df['bus_stop'])\n",
    "\n",
    "\"\"\"\n",
    "CODE DUMP:\n",
    "Feature encoder\n",
    "Because the data have been prepared accordingly for day, month and stores\n",
    "df['n_time_n'] = LabelEncoder().fit_transform(df['n_time'])\n",
    "df['n_day_n'] = LabelEncoder().fit_transform(df['n_day'])\n",
    "df['n_month_n'] = LabelEncoder().fit_transform(df['n_month'])\n",
    "df['stores_n'] = LabelEncoder().fit_transform(df['stores'])\n",
    "\n",
    "For selecting features:\n",
    "- One month data (one segments): data_features = ['hours', 'mins', 'n_day', 'stores']\n",
    "- One month data (mult. segments): data_features = ['osm_id', 'hours', 'mins', 'n_day', 'stores','road_lt_m', 'bus_stop']\n",
    "- Mult. month data (one segments): data_features = ['hours', 'mins', 'n_day', 'n_month', 'stores']\n",
    "- Mult. month data (mult. segments): data_features = ['osm_id', 'hours', 'mins', 'n_day', 'n_month', 'stores', 'road_lt_m', 'bus_stop']\n",
    "\"\"\"\n",
    "\n",
    "# selecting the 'features', depending on the data\n",
    "data_features = ['osm_id', 'hours', 'mins', 'n_day', 'stores','road_lt_m', 'bus_stop_n']\n",
    "X = df[data_features]\n",
    "\n",
    "X.head()"
   ]
  },
  {
   "cell_type": "code",
   "execution_count": null,
   "metadata": {},
   "outputs": [],
   "source": [
    "# Inspect the data\n",
    "print('DATA INSPECTION RESULTS:')\n",
    "print('osm id values:', df['osm_id'].unique())\n",
    "print('day values:', df['n_day'].unique())\n",
    "print('month values:', df['n_month'].unique())\n",
    "print('stores values:', df['stores'].unique())\n",
    "print('link_dir values:', df['link_dir'].unique())\n",
    "print('highway values:', df['highway'].unique())\n",
    "print('year values:', df['year'].unique())"
   ]
  },
  {
   "cell_type": "code",
   "execution_count": null,
   "metadata": {},
   "outputs": [],
   "source": [
    "for col in df.columns:\n",
    "    if len(df[col].unique()) == 1:\n",
    "        df.drop(col,inplace=True,axis=1)\n",
    "\n",
    "# Visualizing Correlation\n",
    "sns.set(rc={'figure.figsize':(12,10)}, font_scale=2)\n",
    "sns.heatmap(df.corr(), annot=True, vmin=-1.0, cmap='mako')\n",
    "plt.title('Data Correlation')\n",
    "plt.show()"
   ]
  },
  {
   "cell_type": "code",
   "execution_count": null,
   "metadata": {},
   "outputs": [],
   "source": [
    "# Train-test split\n",
    "train_X, val_X, train_y, val_y = train_test_split(X, y, train_size=0.7, shuffle=True, random_state=1)\n",
    "\n",
    "# Set your custom color palette\n",
    "customPalette = sns.set_palette(sns.color_palette(\"hls\", 8))\n",
    "\n",
    "ax = sns.set(rc={'figure.figsize':(30,10)}, font_scale=2)\n",
    "ax = sns.lineplot(x=train_X['hours'], y=train_y, hue=train_X['osm_id']) # , label='Training Data', hue=train_X['osm_id']\n",
    "ax = sns.lineplot(x=val_X['hours'], y=val_y, hue=val_X['osm_id']) # , label='Test Data', hue=val_X['osm_id'], palette=customPalette\n",
    "\n",
    "# Customize the axes and title\n",
    "ax.set_title(\"Selected Data\")\n",
    "ax.set_xlabel(\"Hours\")\n",
    "ax.set_ylabel(\"Speed in Km/h\")"
   ]
  },
  {
   "cell_type": "code",
   "execution_count": null,
   "metadata": {},
   "outputs": [],
   "source": [
    "# Scale X\n",
    "print('Variance before scaler:', train_X.var(), sep='\\n')\n",
    "print('\\n')\n",
    "scaler = StandardScaler()\n",
    "scaler.fit(train_X)\n",
    "train_X = pd.DataFrame(scaler.transform(train_X), index=train_X.index, columns=train_X.columns)\n",
    "val_X = pd.DataFrame(scaler.transform(val_X), index=val_X.index, columns=val_X.columns)\n",
    "\n",
    "print('Variance after scaler:', train_X.var(), sep='\\n')\n",
    "print('\\n')\n",
    "\n",
    "print(train_X)\n",
    "print(val_X)\n",
    "print(train_y)\n",
    "print(val_y)"
   ]
  },
  {
   "cell_type": "markdown",
   "metadata": {},
   "source": [
    "# Model Links\n",
    "- LR    : https://scikit-learn.org/stable/modules/generated/sklearn.linear_model.LinearRegression.html\n",
    "- KNN   : https://scikit-learn.org/stable/modules/generated/sklearn.neighbors.KNeighborsRegressor.html?highlight=kneighborsregressor#sklearn.neighbors.KNeighborsRegressor\n",
    "- MLP   : https://scikit-learn.org/stable/modules/generated/sklearn.neural_network.MLPRegressor.html\n",
    "- SVR   : https://scikit-learn.org/stable/modules/generated/sklearn.svm.SVR.html or https://scikit-learn.org/stable/modules/generated/sklearn.svm.LinearSVR.html\n",
    "- DT    : https://scikit-learn.org/stable/modules/generated/sklearn.tree.DecisionTreeRegressor.html\n",
    "- RF    : https://scikit-learn.org/stable/modules/generated/sklearn.ensemble.RandomForestRegressor.html\n",
    "- GB    : https://scikit-learn.org/stable/modules/generated/sklearn.ensemble.GradientBoostingRegressor.html\n",
    "\n",
    "Additional about R2 negative\n",
    "https://stats.stackexchange.com/questions/183265/what-does-negative-r-squared-mean#:~:text=R2%20can%20be%20negative,fits%20your%20data%20very%20badly"
   ]
  },
  {
   "cell_type": "code",
   "execution_count": null,
   "metadata": {},
   "outputs": [],
   "source": [
    "# Comparing the models \n",
    "models = {\n",
    "    \"                     Linear Regression\": LinearRegression(normalize=True), # normalize=True\n",
    "    \"                   K-Nearest Neighbors\": KNeighborsRegressor(n_neighbors=5, weights='uniform', algorithm='brute', p=1), # n_neighbors=5, weights='uniform', algorithm='brute', p=1\n",
    "    \"                        Neural Network\": MLPRegressor(max_iter=500, random_state=0, solver='lbfgs'), # max_iter=500, random_state=0, solver='lbfgs'\n",
    "    \"Support Vector Machine (Linear Kernel)\": LinearSVR(C=1, epsilon=5), # C=1, epsilon=5\n",
    "    \"   Support Vector Machine (RBF Kernel)\": SVR(C=500, epsilon=5), # C=500, epsilon=5\n",
    "    \"                         Decision Tree\": DecisionTreeRegressor(max_depth=6), # max_depth=6\n",
    "    \"                         Random Forest\": RandomForestRegressor(max_depth=6, max_features=\"log2\", random_state=0), # max_depth=6, max_features=\"log2\", random_state=0\n",
    "    \"                     Gradient Boosting\": GradientBoostingRegressor(n_estimators=100, learning_rate=0.1, max_depth=3) # n_estimators=100, learning_rate=0.1, max_depth=3\n",
    "}\n",
    "\n",
    "for name, model in models.items():\n",
    "    model.fit(train_X, train_y)\n",
    "    print(name + \" trained.\")"
   ]
  },
  {
   "cell_type": "code",
   "execution_count": null,
   "metadata": {},
   "outputs": [],
   "source": [
    "for name, model in models.items():\n",
    "    print(name + \" R^2 Score: {:.5f}\".format(model.score(val_X, val_y)))\n",
    "    print(name + \" R^2 Score: {:.5f}\".format(model.score(train_X, train_y)))"
   ]
  },
  {
   "cell_type": "code",
   "execution_count": null,
   "metadata": {},
   "outputs": [],
   "source": [
    "from sklearn.metrics import r2_score, mean_absolute_error, mean_squared_error\n",
    "\n",
    "for name, model in models.items():\n",
    "    val_predict = model.predict(val_X)\n",
    "    print(name + \" R^2 Score: {:.5f}\".format(r2_score(val_y, val_predict)))\n",
    "    print(name + \" RMSE: {:.5f}\".format(np.sqrt(mean_squared_error(val_y, val_predict))))\n",
    "    print(name + \" MAE: {:.5f}\".format(mean_absolute_error(val_y, val_predict)))"
   ]
  },
  {
   "cell_type": "code",
   "execution_count": null,
   "metadata": {},
   "outputs": [],
   "source": [
    "# Specifying and creating the MODEL\n",
    "# Change the model accordingly!\n",
    "data_model = GradientBoostingRegressor()\n",
    "data_model.fit(train_X, train_y)"
   ]
  },
  {
   "cell_type": "code",
   "execution_count": null,
   "metadata": {},
   "outputs": [],
   "source": [
    "# PREDICTING and VALIDATING the values\n",
    "val_predictions = data_model.predict(val_X)\n",
    "\n",
    "print('R^2 Score =', r2_score(val_y, val_predictions))\n",
    "print('Mean Absolute Error =', mean_absolute_error(val_y, val_predictions))\n",
    "print('Root Mean Squared Error =', np.sqrt(mean_squared_error(val_y, val_predictions)))\n",
    "\n",
    "# Implementing Cross Validation techniques\n",
    "from sklearn.model_selection import cross_val_score\n",
    "scores = cross_val_score(data_model, train_X, train_y, cv=10)\n",
    "scores"
   ]
  },
  {
   "cell_type": "code",
   "execution_count": null,
   "metadata": {},
   "outputs": [],
   "source": [
    "plt.figure(figsize=(30,10))\n",
    "n=len(val_y)\n",
    "plt.plot(range(n), val_y, color = 'red', label = 'Actual Speed')\n",
    "plt.plot(range(n), val_predictions, color = 'black', label = 'Prediction')\n",
    "plt.legend(loc = 'best')\n",
    "plt.ylabel('Speed (Km/h)')\n",
    "plt.title('Actual & Predicted Value')\n",
    "plt.show()"
   ]
  },
  {
   "cell_type": "code",
   "execution_count": null,
   "metadata": {},
   "outputs": [],
   "source": [
    "# Inverse transform the X data for plot\n",
    "\n",
    "print('Before Inverse Scaler:')\n",
    "print(\"Training Data\", train_X)\n",
    "print(\"Test Data\", val_X)\n",
    "\n",
    "train_X = pd.DataFrame(scaler.inverse_transform(train_X), index=train_X.index, columns=train_X.columns)\n",
    "val_X = pd.DataFrame(scaler.inverse_transform(val_X), index=val_X.index, columns=val_X.columns)\n",
    "\n",
    "print(\"After Inverse Scaler:\")\n",
    "print(\"Training Data\", train_X)\n",
    "print(\"Test Data\", val_X)"
   ]
  },
  {
   "cell_type": "code",
   "execution_count": null,
   "metadata": {},
   "outputs": [],
   "source": [
    "# Set your custom color palette\n",
    "customPalette = sns.set_palette(sns.color_palette(\"hls\", 8))\n",
    "\n",
    "ax = sns.set(rc={'figure.figsize':(30,10)}, font_scale=2)\n",
    "ax = sns.lineplot(x=val_X['hours'], y=val_y, label='Actual Value') # , hue=train_X['osm_id']\n",
    "ax = sns.lineplot(x=val_X['hours'], y=val_predict, label='Predicted Value') # , hue=val_X['osm_id'], palette=customPalette\n",
    "\n",
    "# Customize the axes and title\n",
    "ax.set_title(\"Selected Data\")\n",
    "ax.set_xlabel(\"Hours\")\n",
    "ax.set_ylabel(\"Speed (Km/h)\")"
   ]
  },
  {
   "cell_type": "code",
   "execution_count": null,
   "metadata": {},
   "outputs": [],
   "source": [
    "# Set your custom color palette\n",
    "customPalette = sns.set_palette(sns.color_palette(\"hls\", 8))\n",
    "\n",
    "ax = sns.set(rc={'figure.figsize':(30,10)}, font_scale=2)\n",
    "ax = sns.lineplot(x=val_X.index, y=val_y, label='Actual Value') # , hue=train_X['osm_id']\n",
    "ax = sns.lineplot(x=val_X.index, y=val_predict, label='Predicted Value') # , hue=val_X['osm_id'], palette=customPalette\n",
    "\n",
    "# Customize the axes and title\n",
    "ax.set_title(\"Selected Data\")\n",
    "ax.set_xlabel(\"Hours\")\n",
    "ax.set_ylabel(\"Speed (Km/h)\")"
   ]
  },
  {
   "cell_type": "code",
   "execution_count": null,
   "metadata": {},
   "outputs": [],
   "source": [
    "# Set your custom color palette\n",
    "customPalette = sns.set_palette(sns.color_palette(\"hls\", 8))\n",
    "\n",
    "ax = sns.set(rc={'figure.figsize':(30,10)}, font_scale=2)\n",
    "ax = sns.lineplot(x=val_X['hours'], y=val_y, hue=val_X['osm_id'], style=val_X['osm_id']) # , label='Actual Value', hue=train_X['osm_id']\n",
    "ax = sns.lineplot(x=val_X['hours'], y=val_predict, hue=val_X['osm_id'], style=val_X['osm_id']) # , label='Predicted Value', hue=val_X['osm_id'], palette=customPalette\n",
    "\n",
    "# Customize the axes and title\n",
    "ax.set_title(\"Selected Data\")\n",
    "ax.set_xlabel(\"Hours\")\n",
    "ax.set_ylabel(\"Speed (Km/h)\")"
   ]
  }
 ],
 "metadata": {
  "interpreter": {
   "hash": "82bf85669d692fee2b347de7bbce2bad1b8e1fd0b9c99807ad03cff7fa26afb9"
  },
  "kernelspec": {
   "display_name": "Python 3.8.8 ('base')",
   "language": "python",
   "name": "python3"
  },
  "language_info": {
   "codemirror_mode": {
    "name": "ipython",
    "version": 3
   },
   "file_extension": ".py",
   "mimetype": "text/x-python",
   "name": "python",
   "nbconvert_exporter": "python",
   "pygments_lexer": "ipython3",
   "version": "3.8.8"
  },
  "orig_nbformat": 4
 },
 "nbformat": 4,
 "nbformat_minor": 2
}
